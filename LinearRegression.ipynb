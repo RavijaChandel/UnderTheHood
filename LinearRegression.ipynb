{
 "cells": [
  {
   "cell_type": "code",
   "execution_count": 4,
   "id": "bd35afb4",
   "metadata": {},
   "outputs": [],
   "source": [
    "#importing libraries\n",
    "import numpy as np\n",
    "import pandas as pd\n",
    "import matplotlib.pyplot as plt"
   ]
  },
  {
   "cell_type": "code",
   "execution_count": 5,
   "id": "f4f99710",
   "metadata": {},
   "outputs": [
    {
     "data": {
      "text/html": [
       "<div>\n",
       "<style scoped>\n",
       "    .dataframe tbody tr th:only-of-type {\n",
       "        vertical-align: middle;\n",
       "    }\n",
       "\n",
       "    .dataframe tbody tr th {\n",
       "        vertical-align: top;\n",
       "    }\n",
       "\n",
       "    .dataframe thead th {\n",
       "        text-align: right;\n",
       "    }\n",
       "</style>\n",
       "<table border=\"1\" class=\"dataframe\">\n",
       "  <thead>\n",
       "    <tr style=\"text-align: right;\">\n",
       "      <th></th>\n",
       "      <th>YearsExperience</th>\n",
       "      <th>Salary</th>\n",
       "    </tr>\n",
       "  </thead>\n",
       "  <tbody>\n",
       "    <tr>\n",
       "      <th>0</th>\n",
       "      <td>1.1</td>\n",
       "      <td>39343.0</td>\n",
       "    </tr>\n",
       "    <tr>\n",
       "      <th>1</th>\n",
       "      <td>1.3</td>\n",
       "      <td>46205.0</td>\n",
       "    </tr>\n",
       "    <tr>\n",
       "      <th>2</th>\n",
       "      <td>1.5</td>\n",
       "      <td>37731.0</td>\n",
       "    </tr>\n",
       "    <tr>\n",
       "      <th>3</th>\n",
       "      <td>2.0</td>\n",
       "      <td>43525.0</td>\n",
       "    </tr>\n",
       "    <tr>\n",
       "      <th>4</th>\n",
       "      <td>2.2</td>\n",
       "      <td>39891.0</td>\n",
       "    </tr>\n",
       "  </tbody>\n",
       "</table>\n",
       "</div>"
      ],
      "text/plain": [
       "   YearsExperience   Salary\n",
       "0              1.1  39343.0\n",
       "1              1.3  46205.0\n",
       "2              1.5  37731.0\n",
       "3              2.0  43525.0\n",
       "4              2.2  39891.0"
      ]
     },
     "execution_count": 5,
     "metadata": {},
     "output_type": "execute_result"
    }
   ],
   "source": [
    "#loading the dataset\n",
    "data = pd.read_csv(\"Salary_Data.csv\")\n",
    "data.head()"
   ]
  },
  {
   "cell_type": "code",
   "execution_count": 8,
   "id": "8d1dfcfa",
   "metadata": {},
   "outputs": [
    {
     "data": {
      "text/plain": [
       "5.3133333333333335"
      ]
     },
     "execution_count": 8,
     "metadata": {},
     "output_type": "execute_result"
    }
   ],
   "source": [
    "#calculating the mean of years of experience\n",
    "mean_YE = sum(data['YearsExperience']) / float(len(data['YearsExperience']))\n",
    "mean_YE"
   ]
  },
  {
   "cell_type": "code",
   "execution_count": 9,
   "id": "48dfc704",
   "metadata": {},
   "outputs": [
    {
     "data": {
      "text/plain": [
       "76003.0"
      ]
     },
     "execution_count": 9,
     "metadata": {},
     "output_type": "execute_result"
    }
   ],
   "source": [
    "#calculating the mean of salary\n",
    "mean_Sal = sum(data['Salary']) / float(len(data['Salary']))\n",
    "mean_Sal"
   ]
  },
  {
   "cell_type": "code",
   "execution_count": 11,
   "id": "d0bbe939",
   "metadata": {},
   "outputs": [],
   "source": [
    "#Function for calculating variance\n",
    "def calc_variance(values, mean):\n",
    "    return sum([(val-mean)**2 for val in values])"
   ]
  },
  {
   "cell_type": "code",
   "execution_count": 12,
   "id": "c71a0d4f",
   "metadata": {},
   "outputs": [],
   "source": [
    "#Function for calculating covariance between years of experience and salary\n",
    "def calc_covariance(YearsExperience, mean_YE, Salary , mean_Sal):\n",
    "    covariance = 0.0\n",
    "    for i in range(len(YearsExperience)):\n",
    "        covariance = covariance + (YearsExperience[i] - mean_YE) * (Salary[i] - mean_Sal)\n",
    "    return covariance"
   ]
  },
  {
   "cell_type": "code",
   "execution_count": 13,
   "id": "e4bee6f9",
   "metadata": {},
   "outputs": [
    {
     "data": {
      "text/plain": [
       "233.55466666666663"
      ]
     },
     "execution_count": 13,
     "metadata": {},
     "output_type": "execute_result"
    }
   ],
   "source": [
    "#Calculating the variance in years of experience\n",
    "variance_YE = calc_variance(data['YearsExperience'],mean_YE)\n",
    "variance_YE"
   ]
  },
  {
   "cell_type": "code",
   "execution_count": 14,
   "id": "4e9269cf",
   "metadata": {},
   "outputs": [
    {
     "data": {
      "text/plain": [
       "21794977852.0"
      ]
     },
     "execution_count": 14,
     "metadata": {},
     "output_type": "execute_result"
    }
   ],
   "source": [
    "#Calculating the variance in salary\n",
    "variance_Sal = calc_variance(data['Salary'],mean_Sal)\n",
    "variance_Sal"
   ]
  },
  {
   "cell_type": "code",
   "execution_count": 16,
   "id": "f9a7a864",
   "metadata": {},
   "outputs": [
    {
     "data": {
      "text/plain": [
       "2207082.8"
      ]
     },
     "execution_count": 16,
     "metadata": {},
     "output_type": "execute_result"
    }
   ],
   "source": [
    "#Calculating the covariance between years of experience and salary\n",
    "covariance_YE_Sal = calc_covariance(data[\"YearsExperience\"],mean_YE,data[\"Salary\"],mean_Sal)\n",
    "covariance_YE_Sal"
   ]
  },
  {
   "cell_type": "code",
   "execution_count": 18,
   "id": "b73b4db5",
   "metadata": {},
   "outputs": [
    {
     "data": {
      "text/plain": [
       "9449.962321455077"
      ]
     },
     "execution_count": 18,
     "metadata": {},
     "output_type": "execute_result"
    }
   ],
   "source": [
    "#Calculating slope of fitted line\n",
    "m = covariance_YE_Sal/ variance_YE\n",
    "m"
   ]
  },
  {
   "cell_type": "code",
   "execution_count": 20,
   "id": "751e2e0b",
   "metadata": {},
   "outputs": [
    {
     "data": {
      "text/plain": [
       "25792.20019866869"
      ]
     },
     "execution_count": 20,
     "metadata": {},
     "output_type": "execute_result"
    }
   ],
   "source": [
    "#Calculating intercept of fitted line\n",
    "c = mean_Sal - m * mean_YE\n",
    "c"
   ]
  },
  {
   "cell_type": "code",
   "execution_count": 21,
   "id": "cc6b309b",
   "metadata": {},
   "outputs": [
    {
     "data": {
      "text/plain": [
       "73042.01180594409"
      ]
     },
     "execution_count": 21,
     "metadata": {},
     "output_type": "execute_result"
    }
   ],
   "source": [
    "#Example : Using the model to find the salary of a person with 5 years of experience\n",
    "sal = m*5 + c\n",
    "sal"
   ]
  },
  {
   "cell_type": "code",
   "execution_count": 22,
   "id": "d2b8b772",
   "metadata": {},
   "outputs": [
    {
     "name": "stdout",
     "output_type": "stream",
     "text": [
      "The salary of person with 5 years of experience is  73042.01180594409\n"
     ]
    }
   ],
   "source": [
    "print(\"The salary of person with 5 years of experience is \", sal)"
   ]
  },
  {
   "cell_type": "code",
   "execution_count": null,
   "id": "8a78667c",
   "metadata": {},
   "outputs": [],
   "source": []
  }
 ],
 "metadata": {
  "kernelspec": {
   "display_name": "Python 3 (ipykernel)",
   "language": "python",
   "name": "python3"
  },
  "language_info": {
   "codemirror_mode": {
    "name": "ipython",
    "version": 3
   },
   "file_extension": ".py",
   "mimetype": "text/x-python",
   "name": "python",
   "nbconvert_exporter": "python",
   "pygments_lexer": "ipython3",
   "version": "3.9.12"
  }
 },
 "nbformat": 4,
 "nbformat_minor": 5
}
